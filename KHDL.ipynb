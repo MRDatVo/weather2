{
 "cells": [
  {
   "cell_type": "markdown",
   "metadata": {},
   "source": [
    "## Nhóm 7\n",
    "## 1512108 - Võ Tiến Đạt\n",
    "## 1512030 - Trần Quốc Bảo"
   ]
  },
  {
   "cell_type": "markdown",
   "metadata": {},
   "source": [
    "Dự đoán: nhiệt độ cao nhất của ngày hôm sau<br>\n",
    "Lợi ích: mọi hoạt động diễn ra ngoài trời đều bị ảnh hưởng bởi thời tiết, nhất là sản xuất nông nghiệp. Vậy nếu dự đoán trước được thì ta có biện pháp phòng tránh, ứng biến."
   ]
  },
  {
   "cell_type": "markdown",
   "metadata": {},
   "source": [
    "Dữ liệu thời tiết được lấy trên trang https://DarkSky.net<br>\n",
    "Về cách lấy dữ liệu trang này cung cấp 1000 requests một ngày đối với mỗi tài khoản.<br>\n",
    "Dữ liệu lấy với địa điểm ở thành phố Hồ Chí Minh từ năm 1998-2017."
   ]
  },
  {
   "cell_type": "code",
   "execution_count": 1,
   "metadata": {},
   "outputs": [],
   "source": [
    "import numpy as np\n",
    "import pandas as pd\n",
    "import matplotlib.pyplot as plt\n",
    "from sklearn import datasets, linear_model\n",
    "from sklearn.metrics import mean_squared_error, r2_score\n",
    "from sklearn.neural_network import MLPRegressor\n",
    "from sklearn.model_selection import train_test_split\n",
    "from sklearn.decomposition import PCA\n",
    "from sklearn.pipeline import Pipeline, make_pipeline\n",
    "from sklearn.base import BaseEstimator, TransformerMixin, clone\n",
    "from sklearn.compose import ColumnTransformer, make_column_transformer\n",
    "from sklearn.impute import SimpleImputer\n",
    "from sklearn.preprocessing import StandardScaler\n",
    "from copy import deepcopy"
   ]
  },
  {
   "cell_type": "code",
   "execution_count": 2,
   "metadata": {},
   "outputs": [],
   "source": [
    "data_df = pd.read_csv('weatherdata.csv')"
   ]
  },
  {
   "cell_type": "code",
   "execution_count": 3,
   "metadata": {},
   "outputs": [
    {
     "data": {
      "text/html": [
       "<div>\n",
       "<style scoped>\n",
       "    .dataframe tbody tr th:only-of-type {\n",
       "        vertical-align: middle;\n",
       "    }\n",
       "\n",
       "    .dataframe tbody tr th {\n",
       "        vertical-align: top;\n",
       "    }\n",
       "\n",
       "    .dataframe thead th {\n",
       "        text-align: right;\n",
       "    }\n",
       "</style>\n",
       "<table border=\"1\" class=\"dataframe\">\n",
       "  <thead>\n",
       "    <tr style=\"text-align: right;\">\n",
       "      <th></th>\n",
       "      <th>time</th>\n",
       "      <th>summary</th>\n",
       "      <th>sunriseTime</th>\n",
       "      <th>sunsetTime</th>\n",
       "      <th>moonPhase</th>\n",
       "      <th>precipType</th>\n",
       "      <th>temperatureHigh</th>\n",
       "      <th>temperatureHighTime</th>\n",
       "      <th>temperatureLow</th>\n",
       "      <th>temperatureLowTime</th>\n",
       "      <th>...</th>\n",
       "      <th>uvIndexTime</th>\n",
       "      <th>visibility</th>\n",
       "      <th>temperatureMin</th>\n",
       "      <th>temperatureMinTime</th>\n",
       "      <th>temperatureMax</th>\n",
       "      <th>temperatureMaxTime</th>\n",
       "      <th>apparentTemperatureMin</th>\n",
       "      <th>apparentTemperatureMinTime</th>\n",
       "      <th>apparentTemperatureMax</th>\n",
       "      <th>apparentTemperatureMaxTime</th>\n",
       "    </tr>\n",
       "  </thead>\n",
       "  <tbody>\n",
       "    <tr>\n",
       "      <th>0</th>\n",
       "      <td>883587600</td>\n",
       "      <td>Partly cloudy throughout the day.</td>\n",
       "      <td>883609978</td>\n",
       "      <td>883651381</td>\n",
       "      <td>0.09</td>\n",
       "      <td>rain</td>\n",
       "      <td>33.03</td>\n",
       "      <td>883638000</td>\n",
       "      <td>21.02</td>\n",
       "      <td>883695600</td>\n",
       "      <td>...</td>\n",
       "      <td>883630800</td>\n",
       "      <td>NaN</td>\n",
       "      <td>22.02</td>\n",
       "      <td>883609200</td>\n",
       "      <td>33.03</td>\n",
       "      <td>883638000</td>\n",
       "      <td>22.59</td>\n",
       "      <td>883609200</td>\n",
       "      <td>34.64</td>\n",
       "      <td>883638000</td>\n",
       "    </tr>\n",
       "    <tr>\n",
       "      <th>1</th>\n",
       "      <td>883674000</td>\n",
       "      <td>Partly cloudy throughout the day.</td>\n",
       "      <td>883696401</td>\n",
       "      <td>883737813</td>\n",
       "      <td>0.12</td>\n",
       "      <td>rain</td>\n",
       "      <td>33.03</td>\n",
       "      <td>883724400</td>\n",
       "      <td>21.02</td>\n",
       "      <td>883778400</td>\n",
       "      <td>...</td>\n",
       "      <td>883713600</td>\n",
       "      <td>NaN</td>\n",
       "      <td>21.02</td>\n",
       "      <td>883695600</td>\n",
       "      <td>33.03</td>\n",
       "      <td>883724400</td>\n",
       "      <td>21.63</td>\n",
       "      <td>883695600</td>\n",
       "      <td>34.64</td>\n",
       "      <td>883724400</td>\n",
       "    </tr>\n",
       "    <tr>\n",
       "      <th>2</th>\n",
       "      <td>883760400</td>\n",
       "      <td>Partly cloudy throughout the day.</td>\n",
       "      <td>883782824</td>\n",
       "      <td>883824245</td>\n",
       "      <td>0.16</td>\n",
       "      <td>rain</td>\n",
       "      <td>33.03</td>\n",
       "      <td>883814400</td>\n",
       "      <td>23.71</td>\n",
       "      <td>883872000</td>\n",
       "      <td>...</td>\n",
       "      <td>883800000</td>\n",
       "      <td>NaN</td>\n",
       "      <td>21.02</td>\n",
       "      <td>883778400</td>\n",
       "      <td>33.03</td>\n",
       "      <td>883814400</td>\n",
       "      <td>21.63</td>\n",
       "      <td>883778400</td>\n",
       "      <td>34.91</td>\n",
       "      <td>883818000</td>\n",
       "    </tr>\n",
       "    <tr>\n",
       "      <th>3</th>\n",
       "      <td>883846800</td>\n",
       "      <td>Partly cloudy throughout the day.</td>\n",
       "      <td>883869245</td>\n",
       "      <td>883910677</td>\n",
       "      <td>0.20</td>\n",
       "      <td>rain</td>\n",
       "      <td>32.32</td>\n",
       "      <td>883904400</td>\n",
       "      <td>23.71</td>\n",
       "      <td>883944000</td>\n",
       "      <td>...</td>\n",
       "      <td>883886400</td>\n",
       "      <td>NaN</td>\n",
       "      <td>23.71</td>\n",
       "      <td>883872000</td>\n",
       "      <td>32.32</td>\n",
       "      <td>883904400</td>\n",
       "      <td>24.30</td>\n",
       "      <td>883857600</td>\n",
       "      <td>35.83</td>\n",
       "      <td>883890000</td>\n",
       "    </tr>\n",
       "    <tr>\n",
       "      <th>4</th>\n",
       "      <td>883933200</td>\n",
       "      <td>Humid and partly cloudy throughout the day.</td>\n",
       "      <td>883955666</td>\n",
       "      <td>883997109</td>\n",
       "      <td>0.23</td>\n",
       "      <td>rain</td>\n",
       "      <td>33.51</td>\n",
       "      <td>883980000</td>\n",
       "      <td>22.82</td>\n",
       "      <td>884034000</td>\n",
       "      <td>...</td>\n",
       "      <td>883972800</td>\n",
       "      <td>NaN</td>\n",
       "      <td>23.71</td>\n",
       "      <td>883944000</td>\n",
       "      <td>33.51</td>\n",
       "      <td>883980000</td>\n",
       "      <td>24.29</td>\n",
       "      <td>883944000</td>\n",
       "      <td>37.00</td>\n",
       "      <td>883980000</td>\n",
       "    </tr>\n",
       "  </tbody>\n",
       "</table>\n",
       "<p>5 rows × 33 columns</p>\n",
       "</div>"
      ],
      "text/plain": [
       "        time                                      summary  sunriseTime  \\\n",
       "0  883587600            Partly cloudy throughout the day.    883609978   \n",
       "1  883674000            Partly cloudy throughout the day.    883696401   \n",
       "2  883760400            Partly cloudy throughout the day.    883782824   \n",
       "3  883846800            Partly cloudy throughout the day.    883869245   \n",
       "4  883933200  Humid and partly cloudy throughout the day.    883955666   \n",
       "\n",
       "   sunsetTime  moonPhase precipType  temperatureHigh  temperatureHighTime  \\\n",
       "0   883651381       0.09       rain            33.03            883638000   \n",
       "1   883737813       0.12       rain            33.03            883724400   \n",
       "2   883824245       0.16       rain            33.03            883814400   \n",
       "3   883910677       0.20       rain            32.32            883904400   \n",
       "4   883997109       0.23       rain            33.51            883980000   \n",
       "\n",
       "   temperatureLow  temperatureLowTime             ...              \\\n",
       "0           21.02           883695600             ...               \n",
       "1           21.02           883778400             ...               \n",
       "2           23.71           883872000             ...               \n",
       "3           23.71           883944000             ...               \n",
       "4           22.82           884034000             ...               \n",
       "\n",
       "   uvIndexTime  visibility  temperatureMin  temperatureMinTime  \\\n",
       "0    883630800         NaN           22.02           883609200   \n",
       "1    883713600         NaN           21.02           883695600   \n",
       "2    883800000         NaN           21.02           883778400   \n",
       "3    883886400         NaN           23.71           883872000   \n",
       "4    883972800         NaN           23.71           883944000   \n",
       "\n",
       "   temperatureMax  temperatureMaxTime  apparentTemperatureMin  \\\n",
       "0           33.03           883638000                   22.59   \n",
       "1           33.03           883724400                   21.63   \n",
       "2           33.03           883814400                   21.63   \n",
       "3           32.32           883904400                   24.30   \n",
       "4           33.51           883980000                   24.29   \n",
       "\n",
       "   apparentTemperatureMinTime  apparentTemperatureMax  \\\n",
       "0                   883609200                   34.64   \n",
       "1                   883695600                   34.64   \n",
       "2                   883778400                   34.91   \n",
       "3                   883857600                   35.83   \n",
       "4                   883944000                   37.00   \n",
       "\n",
       "   apparentTemperatureMaxTime  \n",
       "0                   883638000  \n",
       "1                   883724400  \n",
       "2                   883818000  \n",
       "3                   883890000  \n",
       "4                   883980000  \n",
       "\n",
       "[5 rows x 33 columns]"
      ]
     },
     "execution_count": 3,
     "metadata": {},
     "output_type": "execute_result"
    }
   ],
   "source": [
    "data_df.head()"
   ]
  },
  {
   "cell_type": "code",
   "execution_count": 4,
   "metadata": {
    "scrolled": false
   },
   "outputs": [
    {
     "name": "stdout",
     "output_type": "stream",
     "text": [
      "<class 'pandas.core.frame.DataFrame'>\n",
      "RangeIndex: 7305 entries, 0 to 7304\n",
      "Data columns (total 33 columns):\n",
      "time                           7305 non-null int64\n",
      "summary                        7305 non-null object\n",
      "sunriseTime                    7305 non-null int64\n",
      "sunsetTime                     7305 non-null int64\n",
      "moonPhase                      7305 non-null float64\n",
      "precipType                     5144 non-null object\n",
      "temperatureHigh                7305 non-null float64\n",
      "temperatureHighTime            7305 non-null int64\n",
      "temperatureLow                 7305 non-null float64\n",
      "temperatureLowTime             7305 non-null int64\n",
      "apparentTemperatureHigh        7305 non-null float64\n",
      "apparentTemperatureHighTime    7305 non-null int64\n",
      "apparentTemperatureLow         7305 non-null float64\n",
      "apparentTemperatureLowTime     7305 non-null int64\n",
      "dewPoint                       7305 non-null float64\n",
      "humidity                       7305 non-null float64\n",
      "pressure                       7305 non-null float64\n",
      "windSpeed                      7305 non-null float64\n",
      "windBearing                    7305 non-null int64\n",
      "windGust                       14 non-null float64\n",
      "windGustTime                   14 non-null float64\n",
      "cloudCover                     7305 non-null float64\n",
      "uvIndex                        7305 non-null int64\n",
      "uvIndexTime                    7305 non-null int64\n",
      "visibility                     4162 non-null float64\n",
      "temperatureMin                 7305 non-null float64\n",
      "temperatureMinTime             7305 non-null int64\n",
      "temperatureMax                 7305 non-null float64\n",
      "temperatureMaxTime             7305 non-null int64\n",
      "apparentTemperatureMin         7305 non-null float64\n",
      "apparentTemperatureMinTime     7305 non-null int64\n",
      "apparentTemperatureMax         7305 non-null float64\n",
      "apparentTemperatureMaxTime     7305 non-null int64\n",
      "dtypes: float64(17), int64(14), object(2)\n",
      "memory usage: 1.8+ MB\n"
     ]
    }
   ],
   "source": [
    "data_df.info(null_counts=True)"
   ]
  },
  {
   "cell_type": "code",
   "execution_count": 5,
   "metadata": {},
   "outputs": [],
   "source": [
    "def convert_localhour(df,at):\n",
    "    df[at] = pd.to_datetime(df[at],unit='s').dt.tz_localize('UTC').dt.tz_convert('Asia/Ho_Chi_Minh').dt.hour\n",
    "    \n",
    "def convert_localday(df,at):\n",
    "    df[at] = pd.to_datetime(df[at],unit='s').dt.tz_localize('UTC').dt.tz_convert('Asia/Ho_Chi_Minh')"
   ]
  },
  {
   "cell_type": "code",
   "execution_count": 6,
   "metadata": {
    "scrolled": true
   },
   "outputs": [],
   "source": [
    "class ColDropper(BaseEstimator, TransformerMixin):\n",
    "    def __init__(self):\n",
    "        pass\n",
    "    def fit(self, X_df, y=None):\n",
    "        return self\n",
    "    def transform(self, X_df, y=None):\n",
    "        data_df = X_df.copy()\n",
    "        #chuyển time sang giờ\n",
    "        convert_localhour(data_df,'sunriseTime')\n",
    "        convert_localhour(data_df,'sunsetTime')\n",
    "        convert_localhour(data_df,'uvIndexTime')\n",
    "        convert_localhour(data_df,'temperatureHighTime')\n",
    "        convert_localhour(data_df,'temperatureLowTime')\n",
    "        convert_localhour(data_df,'temperatureMinTime')\n",
    "        convert_localhour(data_df,'temperatureMaxTime')\n",
    "        convert_localhour(data_df,'apparentTemperatureMinTime')\n",
    "        convert_localhour(data_df,'apparentTemperatureMaxTime')\n",
    "        convert_localhour(data_df,'apparentTemperatureHighTime')\n",
    "        convert_localhour(data_df,'apparentTemperatureLowTime')\n",
    "\n",
    "        #loại bỏ các cột không cần\n",
    "        dropped_cols = ['summary', 'windGustTime', 'windGust','visibility', 'time', 'precipType']\n",
    "        data_df.drop(dropped_cols, axis=1, inplace=True)\n",
    "        \n",
    "        return data_df"
   ]
  },
  {
   "cell_type": "code",
   "execution_count": 7,
   "metadata": {},
   "outputs": [],
   "source": [
    "dayOfBefore = 1"
   ]
  },
  {
   "cell_type": "code",
   "execution_count": 8,
   "metadata": {},
   "outputs": [],
   "source": [
    "#tách X y\n",
    "y_sr = data_df[\"apparentTemperatureMax\"][dayOfBefore:]\n",
    "X_df = data_df.drop(\"apparentTemperatureMax\", axis=1)[:-dayOfBefore]"
   ]
  },
  {
   "cell_type": "code",
   "execution_count": 9,
   "metadata": {},
   "outputs": [],
   "source": [
    "#chia theo tỉ lệ train:validation:test là 60%:20%:20%\n",
    "train_X_df, val_test_X_df, train_y_sr, val_test_y_sr = train_test_split(X_df, y_sr, test_size=0.4, random_state=40)\n",
    "val_X_df, test_X_df, val_y_sr, test_y_sr = train_test_split(val_test_X_df, val_test_y_sr, test_size=0.5, random_state=40)\n",
    "\n",
    "train_y = train_y_sr.values\n",
    "val_y = val_y_sr.values\n",
    "test_y = test_y_sr.values"
   ]
  },
  {
   "cell_type": "code",
   "execution_count": 10,
   "metadata": {},
   "outputs": [],
   "source": [
    "num_transformer = Pipeline(steps=[('imputer', SimpleImputer(strategy = 'mean'))])\n",
    "\n",
    "full_preprocess_pipeline = Pipeline(steps=[('coldrop', ColDropper()),\n",
    "                                         ('num', num_transformer)])"
   ]
  },
  {
   "cell_type": "code",
   "execution_count": 11,
   "metadata": {},
   "outputs": [],
   "source": [
    "preprocessed_train_X = full_preprocess_pipeline.fit_transform(train_X_df)\n",
    "preprocessed_val_X = full_preprocess_pipeline.transform(val_X_df)"
   ]
  },
  {
   "cell_type": "code",
   "execution_count": 12,
   "metadata": {},
   "outputs": [
    {
     "name": "stdout",
     "output_type": "stream",
     "text": [
      "alpha = 0.0001, score_train = 0.59, score_val = 0.62\n",
      "alpha = 0.001, score_train = 0.62, score_val = 0.65\n",
      "alpha = 0.01, score_train = 0.65, score_val = 0.67\n",
      "alpha = 0.1, score_train = 0.65, score_val = 0.68\n",
      "alpha = 1, score_train = 0.65, score_val = 0.67\n",
      "alpha = 10, score_train = 0.67, score_val = 0.70\n"
     ]
    }
   ],
   "source": [
    "alpha = [0.0001, 0.001, 0.01, 0.1, 1, 10]\n",
    "best_mlp_regr = None\n",
    "best_val_score = -float('inf')\n",
    "for al in alpha:\n",
    "    regr = MLPRegressor(hidden_layer_sizes=(100,), alpha=al)\n",
    "    regr.fit(preprocessed_train_X, train_y)\n",
    "    train_y_pred = regr.predict(preprocessed_train_X)\n",
    "    val_y_pred = regr.predict(preprocessed_val_X)\n",
    "    score_train = r2_score(train_y, train_y_pred)\n",
    "    score_val = r2_score(val_y, val_y_pred)\n",
    "    if best_val_score<score_val:\n",
    "        best_val_score = score_val\n",
    "        best_mlp_regr = deepcopy(regr)\n",
    "    print('alpha = {0}, score_train = {1:0.2f}, score_val = {2:0.2f}'.format(al,score_train, score_val))"
   ]
  },
  {
   "cell_type": "code",
   "execution_count": 13,
   "metadata": {},
   "outputs": [
    {
     "name": "stdout",
     "output_type": "stream",
     "text": [
      "score_train = 0.68, score_val = 0.70\n"
     ]
    }
   ],
   "source": [
    "regr = linear_model.LinearRegression()\n",
    "regr.fit(preprocessed_train_X, train_y)\n",
    "train_y_pred = regr.predict(preprocessed_train_X)\n",
    "val_y_pred = regr.predict(preprocessed_val_X)\n",
    "score_train = r2_score(train_y, train_y_pred)\n",
    "score_val = r2_score(val_y, val_y_pred)\n",
    "print('score_train = {0:0.2f}, score_val = {1:0.2f}'.format(score_train, score_val))"
   ]
  },
  {
   "cell_type": "code",
   "execution_count": 14,
   "metadata": {},
   "outputs": [],
   "source": [
    "preprocessed_test_X = full_preprocess_pipeline.transform(test_X_df)"
   ]
  },
  {
   "cell_type": "code",
   "execution_count": 15,
   "metadata": {},
   "outputs": [],
   "source": [
    "# test_y_pred = best_mlp_regr.predict(preprocessed_test_X)\n",
    "# print('MLP Regression')\n",
    "# print(\"Mean squared error: %.2f\" % mean_squared_error(test_y, test_y_pred))\n",
    "# print('Variance score: %.2f' % r2_score(test_y, test_y_pred), end='\\n\\n')"
   ]
  },
  {
   "cell_type": "code",
   "execution_count": 16,
   "metadata": {},
   "outputs": [
    {
     "name": "stdout",
     "output_type": "stream",
     "text": [
      "Linear Regression\n",
      "Mean squared error: 3.40\n",
      "Variance score: 0.69\n"
     ]
    }
   ],
   "source": [
    "test_y_pred = regr.predict(preprocessed_test_X)\n",
    "print(\"Linear Regression\")\n",
    "print(\"Mean squared error: %.2f\" % mean_squared_error(test_y, test_y_pred))\n",
    "print('Variance score: %.2f' % r2_score(test_y, test_y_pred))"
   ]
  }
 ],
 "metadata": {
  "kernelspec": {
   "display_name": "Python 3",
   "language": "python",
   "name": "python3"
  },
  "language_info": {
   "codemirror_mode": {
    "name": "ipython",
    "version": 3
   },
   "file_extension": ".py",
   "mimetype": "text/x-python",
   "name": "python",
   "nbconvert_exporter": "python",
   "pygments_lexer": "ipython3",
   "version": "3.6.7"
  }
 },
 "nbformat": 4,
 "nbformat_minor": 2
}
